{
 "cells": [
  {
   "cell_type": "code",
   "execution_count": 1,
   "metadata": {
    "collapsed": false
   },
   "outputs": [
    {
     "name": "stdout",
     "output_type": "stream",
     "text": [
      "Selected Feature Names:  \n [['Ticker' 'total yield' 'ms debt' 'roic v2' 'book price' 'sic' 'opInc'\n  'fcf yield' 'comStockEq' 'ms cem' 'total return' 'spitz roic' 'ms ce'\n  'momentum']]  ...\nFirst few Stocks with Features:  \n [['DD' '0.03' '11356000156.93' '0.19' '0.16' '16417999988.64'\n  '2892999992.35' '0.03' '9514000033.31' '5531999915.68' '0.09' '0.18'\n  '4452000010.73' '0.93']\n ['DOW' '0.04' '21291999674.27' '0.13' '0.42' '39294999803.92'\n  '5032000045.36' '0.03' '25035000219.44' '7032000010.63' '0.1' '0.13'\n  '7032000010.63' '0.94']\n ['MON' '0.09' '9039999988.11' '0.2' '0.1' '11898000085.39' '2375000012.38'\n  '0.04' '4534000078.38' '1735999970.61' '0.1' '0.2' '1676000016.95' '0.88']]  ...\n\n 1436 Stocks by 14 Features\n"
     ]
    }
   ],
   "source": [
    "# Import all liquid stocks of 2015 (features X)\n",
    "import numpy as np\n",
    "import csv\n",
    "data = list(csv.reader(open('data/x2015_noFinance.csv')))\n",
    "feature_data = np.asarray(data)\n",
    "# First stock in X with selected features\n",
    "selected_features = feature_data[:, [0, 6, 7, 8, 9, 10, 12, 13, 15, 16, 17, 18, 19, 20]]  \n",
    "print('Selected Feature Names: ', '\\n', selected_features[0:1, :], ' ...')\n",
    "# X with selected features and labels & blanks removed\n",
    "x_data_features = selected_features[1:, :]\n",
    "x_data_features[x_data_features == ''] = 0.0\n",
    "x_data = x_data_features\n",
    "print('First few Stocks with Features: ', '\\n', x_data[0:3, :], ' ...')\n",
    "print('\\n', np.size(x_data[:, 0]), 'Stocks by', np.size(x_data[0, :]), 'Features')"
   ]
  },
  {
   "cell_type": "code",
   "execution_count": 3,
   "metadata": {
    "collapsed": false
   },
   "outputs": [
    {
     "name": "stdout",
     "output_type": "stream",
     "text": [
      "First few X Training Examples with 13 Selected Features to Numbers: \n [[  3.000e-02   1.136e+10   1.900e-01   1.600e-01   1.642e+10   2.893e+09\n    3.000e-02   9.514e+09   5.532e+09   9.000e-02   1.800e-01   4.452e+09\n    9.300e-01]\n [  4.000e-02   2.129e+10   1.300e-01   4.200e-01   3.929e+10   5.032e+09\n    3.000e-02   2.504e+10   7.032e+09   1.000e-01   1.300e-01   7.032e+09\n    9.400e-01]\n [  9.000e-02   9.040e+09   2.000e-01   1.000e-01   1.190e+10   2.375e+09\n    4.000e-02   4.534e+09   1.736e+09   1.000e-01   2.000e-01   1.676e+09\n    8.800e-01]]  ...\nFirst few Positive Examples:  \n [['AAPL' 'Apple, Inc.' 'NASD' 'Technology' 'Computer Hardware']\n ['ABAX' 'ABAXIS, Inc.' 'NASD' 'Health Care' 'Medical Supplies']\n ['ABC' 'AmerisourceBergen Corp.' 'NYSE' 'Consumer Staples'\n  'Drug Retailers']]  ...\n\nPositive Example Count:  119\n"
     ]
    }
   ],
   "source": [
    "# Import best performing stocks of 2015 (y = 1)\n",
    "import csv\n",
    "data = list(csv.reader(open('data/y201501_noFinancials.csv')))\n",
    "y_data = np.asarray(data[1:])\n",
    "# Find X and Y tickers\n",
    "x_tickers = x_data[:, 0]\n",
    "y_tickers = y_data[:, 0]\n",
    "# Format Y to y = 1 (positive) and y = 0 (negative) examples \n",
    "true_false_mask = np.in1d(x_tickers, y_tickers)\n",
    "y_mask = np.where(true_false_mask, 1, 0)\n",
    "# Place data set into input (X) and output (Y) variables\n",
    "x_strings = x_data[:, 1:]  # take off tickers, as they can't be tensor'd\n",
    "X = x_strings.astype(np.float)  # convert strings to float\n",
    "Y = y_mask        # Y uses the 0, 1 to show negative and positive examples\n",
    "np.set_printoptions(precision=3, suppress=True)\n",
    "print('First few X Training Examples with', np.size(X[0, :]), 'Selected Features to Numbers: \\n', X[0:3, :], ' ...')\n",
    "print('First few Positive Examples: ', '\\n', y_data[0:3, 0:5], ' ...')\n",
    "print('\\nPositive Example Count: ', np.size(x_tickers[np.nonzero(y_mask)]))\n",
    "# print('First few Y values: ', '\\n', Y[0:10].reshape(10,1), ' ...')"
   ]
  },
  {
   "cell_type": "code",
   "execution_count": 5,
   "metadata": {
    "collapsed": false
   },
   "outputs": [
    {
     "name": "stdout",
     "output_type": "stream",
     "text": [
      "[-0.424  0.662 -0.071 -0.563  0.475  0.7   -0.003  0.467  0.648 -0.024\n -0.031  1.144  0.587]\n"
     ]
    }
   ],
   "source": [
    "# Standardize the X data\n",
    "from sklearn.preprocessing import StandardScaler\n",
    "scaler = StandardScaler().fit(X)\n",
    "rescaledX = scaler.transform(X)\n",
    "# summarize transformed data\n",
    "np.set_printoptions(precision=3, suppress=True)\n",
    "print(rescaledX[0:5, :][0])"
   ]
  },
  {
   "cell_type": "code",
   "execution_count": 6,
   "metadata": {
    "collapsed": true
   },
   "outputs": [],
   "source": [
    "# Control X vs rescaledX\n",
    "X = rescaledX"
   ]
  },
  {
   "cell_type": "code",
   "execution_count": 7,
   "metadata": {
    "collapsed": false
   },
   "outputs": [
    {
     "name": "stdout",
     "output_type": "stream",
     "text": [
      "Initial Features: \n [[-0.424  0.662 -0.071 -0.563  0.475  0.7   -0.003  0.467  0.648 -0.024\n  -0.031  1.144  0.587]\n [-0.233  1.565 -0.122 -0.059  1.662  1.459 -0.003  1.775  0.874 -0.024\n  -0.053  1.942  0.662]\n [ 0.72   0.452 -0.062 -0.68   0.24   0.516  0.048  0.048  0.074 -0.024\n  -0.022  0.286  0.211]]\nSelected Features: \n [[-0.424  0.662 -0.071 -0.563  0.475  0.7   -0.003  0.467  0.648 -0.024\n  -0.031  1.144  0.587]\n [-0.233  1.565 -0.122 -0.059  1.662  1.459 -0.003  1.775  0.874 -0.024\n  -0.053  1.942  0.662]\n [ 0.72   0.452 -0.062 -0.68   0.24   0.516  0.048  0.048  0.074 -0.024\n  -0.022  0.286  0.211]]\n\nInitial Feature Names: \n ['total yield' 'ms debt' 'roic v2' 'book price' 'sic' 'opInc' 'fcf yield'\n 'comStockEq' 'ms cem' 'total return' 'spitz roic' 'ms ce' 'momentum']\n\nSelected Feature Names: \n [['total yield' 'ms debt' 'roic v2' 'book price' 'sic' 'opInc' 'fcf yield'\n  'comStockEq' 'ms cem' 'total return' 'spitz roic' 'ms ce' 'momentum']]\n"
     ]
    }
   ],
   "source": [
    "# Feature Extraction with Low Variance Removal\n",
    "from sklearn.feature_selection import VarianceThreshold\n",
    "# feature extraction\n",
    "variance_sel = VarianceThreshold(threshold=(.8 * (1 - .8)))\n",
    "variance_fit = variance_sel.fit(X)\n",
    "variance_after_features = variance_sel.fit_transform(X)\n",
    "# summarize selected features\n",
    "initial_feature_labels = selected_features[0, 1:]\n",
    "np.set_printoptions(precision=3, suppress=True)\n",
    "variance_labels = variance_fit.transform(initial_feature_labels.reshape(1, -1))\n",
    "print('Initial Features: \\n', X[0:3, :])\n",
    "print('Selected Features: \\n', variance_after_features[0:3, :])\n",
    "print('\\nInitial Feature Names: \\n', initial_feature_labels)\n",
    "print('\\nSelected Feature Names: \\n', variance_labels)"
   ]
  },
  {
   "cell_type": "code",
   "execution_count": 8,
   "metadata": {
    "collapsed": false
   },
   "outputs": [
    {
     "name": "stdout",
     "output_type": "stream",
     "text": [
      "Initial Features: \n [[-0.424  0.662 -0.071 -0.563  0.475  0.7   -0.003  0.467  0.648 -0.024\n  -0.031  1.144  0.587]\n [-0.233  1.565 -0.122 -0.059  1.662  1.459 -0.003  1.775  0.874 -0.024\n  -0.053  1.942  0.662]\n [ 0.72   0.452 -0.062 -0.68   0.24   0.516  0.048  0.048  0.074 -0.024\n  -0.022  0.286  0.211]]\nSelected Features: \n [[-0.563  0.475  0.7    0.467]\n [-0.059  1.662  1.459  1.775]\n [-0.68   0.24   0.516  0.048]]\nFit SCores: \n [  0.289   2.462   0.002   5.819   3.778  14.872   0.549   4.115   3.08\n   0.143   0.004   1.471   0.001]\n\nInitial Feature Names: \n ['total yield' 'ms debt' 'roic v2' 'book price' 'sic' 'opInc' 'fcf yield'\n 'comStockEq' 'ms cem' 'total return' 'spitz roic' 'ms ce' 'momentum']\n\nSelected Feature Names: \n [['book price' 'sic' 'opInc' 'comStockEq']]\n"
     ]
    }
   ],
   "source": [
    "# Feature Extraction with Univariate Statistical Tests (ANOVA F-value f_classif for classification)\n",
    "from sklearn.feature_selection import SelectKBest\n",
    "from sklearn.feature_selection import f_classif\n",
    "# feature extraction\n",
    "SelectKBest_features = SelectKBest(score_func=f_classif, k=4)\n",
    "SelectKBest_fit = SelectKBest_features.fit(X, Y)\n",
    "# summarize selected features\n",
    "initial_feature_labels = selected_features[0, 1:]\n",
    "np.set_printoptions(precision=3, suppress=True)\n",
    "SelectKBest_labels = SelectKBest_fit.transform(initial_feature_labels.reshape(1, -1))\n",
    "SelectKBest_output_features = SelectKBest_fit.transform(X)\n",
    "print('Initial Features: \\n', X[0:3, :])\n",
    "print('Selected Features: \\n', SelectKBest_output_features[0:3, :])\n",
    "print('Fit SCores: \\n', SelectKBest_fit.scores_)\n",
    "print('\\nInitial Feature Names: \\n', initial_feature_labels)\n",
    "print('\\nSelected Feature Names: \\n', SelectKBest_labels)"
   ]
  },
  {
   "cell_type": "code",
   "execution_count": 9,
   "metadata": {
    "collapsed": false
   },
   "outputs": [
    {
     "name": "stdout",
     "output_type": "stream",
     "text": [
      "Initial Features: \n [[-0.424  0.662 -0.071 -0.563  0.475  0.7   -0.003  0.467  0.648 -0.024\n  -0.031  1.144  0.587]\n [-0.233  1.565 -0.122 -0.059  1.662  1.459 -0.003  1.775  0.874 -0.024\n  -0.053  1.942  0.662]\n [ 0.72   0.452 -0.062 -0.68   0.24   0.516  0.048  0.048  0.074 -0.024\n  -0.022  0.286  0.211]]\nSelected Features: \n [[ 0.475  0.7    0.467  0.648]\n [ 1.662  1.459  1.775  0.874]\n [ 0.24   0.516  0.048  0.074]]\nChi-Fit Scores: \n [  0.054   7.766   0.519  11.59   13.342  55.703   2.128  16.068  19.073\n   3.746   0.949   7.101   0.371]\n\nInitial Feature Names: \n ['total yield' 'ms debt' 'roic v2' 'book price' 'sic' 'opInc' 'fcf yield'\n 'comStockEq' 'ms cem' 'total return' 'spitz roic' 'ms ce' 'momentum']\n\nSelected Feature Names: \n [['sic' 'opInc' 'comStockEq' 'ms cem']]\n"
     ]
    }
   ],
   "source": [
    "# Feature Extraction with Univariate Statistical Tests (Chi-squared for classification)\n",
    "from sklearn.feature_selection import SelectKBest\n",
    "from sklearn.feature_selection import chi2\n",
    "# feature extraction\n",
    "chi_select_features = SelectKBest(score_func=chi2, k=4)\n",
    "non_z = np.where(X < 0)\n",
    "x_no_neg = np.copy(X)\n",
    "x_no_neg[x_no_neg < 0] = 0.0\n",
    "chi_fit = chi_select_features.fit(x_no_neg, Y)\n",
    "# summarize selected features\n",
    "initial_feature_labels = selected_features[0, 1:]\n",
    "np.set_printoptions(precision=3, suppress=True)\n",
    "chi_labels = chi_fit.transform(initial_feature_labels.reshape(1, -1))\n",
    "chi_fit_output_features = chi_fit.transform(X)\n",
    "print('Initial Features: \\n', X[0:3, :])\n",
    "print('Selected Features: \\n', chi_fit_output_features[0:3, :])\n",
    "print('Chi-Fit Scores: \\n', chi_fit.scores_)\n",
    "print('\\nInitial Feature Names: \\n', initial_feature_labels)\n",
    "print('\\nSelected Feature Names: \\n', chi_labels)"
   ]
  },
  {
   "cell_type": "code",
   "execution_count": 11,
   "metadata": {
    "collapsed": false
   },
   "outputs": [
    {
     "name": "stdout",
     "output_type": "stream",
     "text": [
      "Initial Features: \n [[-0.424  0.662 -0.071 -0.563  0.475  0.7   -0.003  0.467  0.648 -0.024\n  -0.031  1.144  0.587]\n [-0.233  1.565 -0.122 -0.059  1.662  1.459 -0.003  1.775  0.874 -0.024\n  -0.053  1.942  0.662]\n [ 0.72   0.452 -0.062 -0.68   0.24   0.516  0.048  0.048  0.074 -0.024\n  -0.022  0.286  0.211]]\nSelected Features: \n [[-0.563  0.7   -0.024]\n [-0.059  1.459 -0.024]\n [-0.68   0.516 -0.024]]\nFeature Ranking:  [10  3 11  1  8  1  2  9  6  1  7  5  4]\n\nInitial Feature Names: \n ['total yield' 'ms debt' 'roic v2' 'book price' 'sic' 'opInc' 'fcf yield'\n 'comStockEq' 'ms cem' 'total return' 'spitz roic' 'ms ce' 'momentum']\n\n 3 Selected Feature Labels: \n ['book price' 'opInc' 'total return']\n"
     ]
    }
   ],
   "source": [
    "# Feature Extraction with RFE\n",
    "from sklearn.feature_selection import RFE\n",
    "from sklearn.linear_model import LogisticRegression\n",
    "# feature extraction\n",
    "rfe_model = LogisticRegression()\n",
    "rfe = RFE(rfe_model, 3)\n",
    "rfe_fit = rfe.fit(X, Y)\n",
    "# summarize selected features\n",
    "initial_feature_labels = selected_features[0,1:]\n",
    "np.set_printoptions(precision=3, suppress=True)\n",
    "rfe_labels = rfe_fit.transform(initial_feature_labels.reshape(1, -1))\n",
    "rfe_fit_output_features = rfe_fit.transform(X)\n",
    "# print('Selected Features: ', rfe_fit.support_)\n",
    "print('Initial Features: \\n', X[0:3, :])\n",
    "print('Selected Features: \\n', rfe_fit_output_features[0:3, :])\n",
    "print('Feature Ranking: ', rfe_fit.ranking_)\n",
    "print('\\nInitial Feature Names: \\n', initial_feature_labels)\n",
    "# print('\\nNumber of Features Chosen: ', rfe_fit.n_features_)\n",
    "print('\\n', rfe_fit.n_features_, 'Selected Feature Labels: \\n', rfe_labels[0])"
   ]
  },
  {
   "cell_type": "code",
   "execution_count": 12,
   "metadata": {
    "collapsed": false
   },
   "outputs": [
    {
     "name": "stdout",
     "output_type": "stream",
     "text": [
      "Initial Feature Names: \n ['total yield' 'ms debt' 'roic v2' 'book price' 'sic' 'opInc' 'fcf yield'\n 'comStockEq' 'ms cem' 'total return' 'spitz roic' 'ms ce' 'momentum']\n[ 0.082  0.077  0.068  0.076  0.079  0.092  0.063  0.079  0.073  0.067\n  0.086  0.084  0.075]\n"
     ]
    }
   ],
   "source": [
    "# Feature Importance with Extra Trees Classifier\n",
    "from sklearn.ensemble import ExtraTreesClassifier\n",
    "# load data\n",
    "tree_X = X\n",
    "# feature extraction\n",
    "initial_feature_labels = selected_features[0, 1:]\n",
    "print('Initial Feature Names: \\n', initial_feature_labels)\n",
    "tree_model = ExtraTreesClassifier()\n",
    "tree_model.fit(tree_X, Y)\n",
    "print(tree_model.feature_importances_)"
   ]
  },
  {
   "cell_type": "code",
   "execution_count": null,
   "metadata": {
    "collapsed": true
   },
   "outputs": [],
   "source": [
    ""
   ]
  }
 ],
 "metadata": {
  "anaconda-cloud": {},
  "kernelspec": {
   "display_name": "Python [default]",
   "language": "python",
   "name": "python3"
  },
  "language_info": {
   "codemirror_mode": {
    "name": "ipython",
    "version": 3.0
   },
   "file_extension": ".py",
   "mimetype": "text/x-python",
   "name": "python",
   "nbconvert_exporter": "python",
   "pygments_lexer": "ipython3",
   "version": "3.5.2"
  }
 },
 "nbformat": 4,
 "nbformat_minor": 0
}