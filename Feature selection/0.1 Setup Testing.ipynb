{
 "cells": [
  {
   "cell_type": "code",
   "execution_count": 1,
   "metadata": {
    "collapsed": false
   },
   "outputs": [
    {
     "name": "stdout",
     "output_type": "stream",
     "text": [
      "First few Stocks with Features, no Lables:  \n",
      " [['AAPL' '0.07' '87032001731.00' '0.41' '0.22' '194797002476.43'\n",
      "  '60023999917.99' '0.09' '128249002132.18' '67155000072.65' '-0.02' '0.31'\n",
      "  '20484000076.70' '0.93']\n",
      " ['GOOGL' '0.01' '3938000070.58' '0.41' '0.24' '128635002231.52'\n",
      "  '22456999936.96' '0.04' '134103000781.74' '83055999197.25' '0.01' '0.18'\n",
      "  '9405999858.15' '0.97']\n",
      " ['MSFT' '0.06' '74690001112.58' '2.41' '0.15' '131134004467.36'\n",
      "  '19614000366.99' '0.06' '70372001200.19' '136932002561.31' '0.30' '0.15'\n",
      "  '13928000042.95' '0.99']\n",
      " ['XOM' '0.04' '46154999967.93' '0.05' '0.48' '211659003189.18'\n",
      "  '10297999997.22' '0.00' '170597002584.78' '5093000063.17' '0.08' '0.05'\n",
      "  '5093000063.17' '0.90']\n",
      " ['JNJ' '0.05' '26988999712.38' '0.33' '0.23' '81553000582.14'\n",
      "  '19682000018.13' '0.04' '72768999735.12' '40432999255.57' '0.18' '0.24'\n",
      "  '18205000375.04' '0.93']]  ...\n",
      "1753 Stocks by 14 Features\n"
     ]
    }
   ],
   "source": [
    "# Import all tradable stocks of 2015 (features X)\n",
    "import numpy as np\n",
    "import csv\n",
    "data = list(csv.reader(open('../data/x2015.csv')))\n",
    "feature_data = np.asarray(data)\n",
    "# print('Example Stock with All Features: ', '\\n', feature_data[0:2,:], ' ...')  # First stock in X\n",
    "# First stock in X with selected features\n",
    "selected_features = feature_data[:,[0,6,7,8,9,10,12,13,15,16,17,18,19,20]]  \n",
    "# print('Example Stock with Selected Features: ', '\\n', selected_features[0:2,:], ' ...')\n",
    "# X with selected features and labels & blanks removed\n",
    "x_data_features = selected_features[1:,:]\n",
    "x_data_features[x_data_features == ''] = 0.0\n",
    "x_data = x_data_features\n",
    "print('First few Stocks with Features, no Lables: ', '\\n', x_data[0:5,:], ' ...')\n",
    "print(np.size(x_data[:,0]), 'Stocks by', np.size(x_data[0,:]), 'Features')"
   ]
  },
  {
   "cell_type": "code",
   "execution_count": 18,
   "metadata": {
    "collapsed": false
   },
   "outputs": [
    {
     "name": "stdout",
     "output_type": "stream",
     "text": [
      "First few Positive Examples:  \n",
      " [['ALDW' 'Alon USA Partners, LP' 'NYSE' 'Energy' 'Exploration & Production']\n",
      " ['AMWD' 'American Woodmark Corp.' 'NASD' 'Industrial' 'Building Materials']\n",
      " ['AMZN' 'Amazon.com, Inc.' 'NASD' 'Cyclicals' 'Broadline Retailers']]  ...\n",
      "Positive Example Count:  61\n",
      "First few X Training Examples with 13 Selected Features: \n",
      " [[  7.000e-02   8.703e+10   4.100e-01   2.200e-01   1.948e+11   6.002e+10\n",
      "    9.000e-02   1.282e+11   6.716e+10  -2.000e-02   3.100e-01   2.048e+10\n",
      "    9.300e-01]\n",
      " [  1.000e-02   3.938e+09   4.100e-01   2.400e-01   1.286e+11   2.246e+10\n",
      "    4.000e-02   1.341e+11   8.306e+10   1.000e-02   1.800e-01   9.406e+09\n",
      "    9.700e-01]\n",
      " [  6.000e-02   7.469e+10   2.410e+00   1.500e-01   1.311e+11   1.961e+10\n",
      "    6.000e-02   7.037e+10   1.369e+11   3.000e-01   1.500e-01   1.393e+10\n",
      "    9.900e-01]\n",
      " [  4.000e-02   4.615e+10   5.000e-02   4.800e-01   2.117e+11   1.030e+10\n",
      "    0.000e+00   1.706e+11   5.093e+09   8.000e-02   5.000e-02   5.093e+09\n",
      "    9.000e-01]\n",
      " [  5.000e-02   2.699e+10   3.300e-01   2.300e-01   8.155e+10   1.968e+10\n",
      "    4.000e-02   7.277e+10   4.043e+10   1.800e-01   2.400e-01   1.821e+10\n",
      "    9.300e-01]]  ...\n"
     ]
    }
   ],
   "source": [
    "# Import best performing stocks of 2015 (y = 1)\n",
    "import csv\n",
    "data = list(csv.reader(open('../data/y2015.csv')))\n",
    "y_data = np.asarray(data[1:])\n",
    "print('First few Positive Examples: ', '\\n', y_data[0:3,0:5], ' ...')\n",
    "# Find X and Y tickers\n",
    "x_tickers = x_data[:,0]\n",
    "y_tickers = y_data[:,0]\n",
    "# Format Y to y = 1 (positive) and y = 0 (negative) examples \n",
    "true_false_mask = np.in1d(x_tickers, y_tickers)\n",
    "y_mask = np.where(true_false_mask,1,0)\n",
    "print('Positive Example Count: ', np.size(x_tickers[np.nonzero(y_mask)]))\n",
    "# Place dataset into input (X) and output (Y) variables\n",
    "x_strings = x_data[:,1:]  # take off tickers, as they can't be tensor'd\n",
    "X = x_strings.astype(np.float)  # convert strings to float\n",
    "Y = y_mask        # Y uses the 0, 1 to show negative and positive examples\n",
    "np.set_printoptions(precision=3, suppress=True)\n",
    "print('First few X Training Examples with', np.size(X[0,:]) , 'Selected Features: \\n', X[0:5,:], ' ...')\n",
    "# print('First few Y values: ', '\\n', Y[0:10].reshape(10,1), ' ...')"
   ]
  },
  {
   "cell_type": "code",
   "execution_count": 19,
   "metadata": {
    "collapsed": false
   },
   "outputs": [
    {
     "name": "stdout",
     "output_type": "stream",
     "text": [
      "['preg', 'plas', 'pres', 'skin', 'test', 'mass', 'pedi', 'age', 'class']\n",
      "Raw Features: \n",
      " [[  7.000e-02   8.703e+10   4.100e-01   2.200e-01   1.948e+11   6.002e+10\n",
      "    9.000e-02   1.282e+11   6.716e+10  -2.000e-02   3.100e-01   2.048e+10\n",
      "    9.300e-01]\n",
      " [  1.000e-02   3.938e+09   4.100e-01   2.400e-01   1.286e+11   2.246e+10\n",
      "    4.000e-02   1.341e+11   8.306e+10   1.000e-02   1.800e-01   9.406e+09\n",
      "    9.700e-01]\n",
      " [  6.000e-02   7.469e+10   2.410e+00   1.500e-01   1.311e+11   1.961e+10\n",
      "    6.000e-02   7.037e+10   1.369e+11   3.000e-01   1.500e-01   1.393e+10\n",
      "    9.900e-01]\n",
      " [  4.000e-02   4.615e+10   5.000e-02   4.800e-01   2.117e+11   1.030e+10\n",
      "    0.000e+00   1.706e+11   5.093e+09   8.000e-02   5.000e-02   5.093e+09\n",
      "    9.000e-01]\n",
      " [  5.000e-02   2.699e+10   3.300e-01   2.300e-01   8.155e+10   1.968e+10\n",
      "    4.000e-02   7.277e+10   4.043e+10   1.800e-01   2.400e-01   1.821e+10\n",
      "    9.300e-01]]\n",
      "After fit_transform() Features: \n",
      " [[   6.   148.    72.    35.     0.    33.6   50. ]\n",
      " [   1.    85.    66.    29.     0.    26.6   31. ]\n",
      " [   8.   183.    64.     0.     0.    23.3   32. ]\n",
      " [   1.    89.    66.    23.    94.    28.1   21. ]\n",
      " [   0.   137.    40.    35.   168.    43.1   33. ]]\n"
     ]
    }
   ],
   "source": [
    "# Feature Extraction with Low Variance Removal\n",
    "import pandas\n",
    "from sklearn.feature_selection import VarianceThreshold\n",
    "# load data\n",
    "url = \"https://archive.ics.uci.edu/ml/machine-learning-databases/pima-indians-diabetes/pima-indians-diabetes.data\"\n",
    "names = ['preg', 'plas', 'pres', 'skin', 'test', 'mass', 'pedi', 'age', 'class']\n",
    "dataframe = pandas.read_csv(url, names=names)\n",
    "array = dataframe.values\n",
    "X_pima = array[:,0:8]\n",
    "# Before Data\n",
    "np.set_printoptions(precision=3, suppress=True)\n",
    "print(names)\n",
    "print('Raw Features: \\n', X[0:5,:])\n",
    "# feature extraction\n",
    "sel = VarianceThreshold(threshold=(.8 * (1 - .8)))\n",
    "after_features = sel.fit_transform(X_pima)\n",
    "# summarize selected features\n",
    "print('After fit_transform() Features: \\n', after_features[0:5,:])"
   ]
  },
  {
   "cell_type": "code",
   "execution_count": 20,
   "metadata": {
    "collapsed": false
   },
   "outputs": [
    {
     "name": "stdout",
     "output_type": "stream",
     "text": [
      "['preg', 'plas', 'pres', 'skin', 'test', 'mass', 'pedi', 'age', 'class']\n",
      "[  111.52   1411.887    17.605    53.108  2175.565   127.669     5.393\n",
      "   181.304]\n",
      "[[ 148.     0.    33.6   50. ]\n",
      " [  85.     0.    26.6   31. ]\n",
      " [ 183.     0.    23.3   32. ]\n",
      " [  89.    94.    28.1   21. ]\n",
      " [ 137.   168.    43.1   33. ]]\n"
     ]
    }
   ],
   "source": [
    "# Feature Extraction with Univariate Statistical Tests (Chi-squared for classification)\n",
    "import pandas\n",
    "from sklearn.feature_selection import SelectKBest\n",
    "from sklearn.feature_selection import chi2\n",
    "# load data\n",
    "url = \"https://archive.ics.uci.edu/ml/machine-learning-databases/pima-indians-diabetes/pima-indians-diabetes.data\"\n",
    "names = ['preg', 'plas', 'pres', 'skin', 'test', 'mass', 'pedi', 'age', 'class']\n",
    "dataframe = pandas.read_csv(url, names=names)\n",
    "array = dataframe.values\n",
    "X_pima = array[:,0:8]\n",
    "Y_test = array[:,8]\n",
    "# feature extraction\n",
    "test = SelectKBest(score_func=chi2, k=4)\n",
    "fit = test.fit(X_pima, Y_test)\n",
    "# summarize scores\n",
    "print(names)\n",
    "np.set_printoptions(precision=3)\n",
    "print(fit.scores_)\n",
    "features_test = fit.transform(X_pima)\n",
    "# summarize selected features\n",
    "print(features_test[0:5,:])"
   ]
  },
  {
   "cell_type": "code",
   "execution_count": 31,
   "metadata": {
    "collapsed": false
   },
   "outputs": [
    {
     "name": "stdout",
     "output_type": "stream",
     "text": [
      "Initial Feature Names: \n",
      " ['total yield' 'ms debt' 'roic v2' 'book price' 'sic' 'opInc' 'fcf yield'\n",
      " 'comStockEq' 'ms cem' 'total return' 'spitz roic' 'ms ce' 'momentum']\n",
      "Fit SCores: \n",
      " [ 11.411   1.563   0.065   7.142   0.343   0.018   3.119   0.014   1.039\n",
      "   0.032   0.013   0.306   0.565]\n",
      "Selected Feature Labels: \n",
      " [['total yield' 'ms debt' 'book price' 'fcf yield']]\n",
      "Selected Features: \n",
      " [[  7.000e-02   8.703e+10   2.200e-01   9.000e-02]\n",
      " [  1.000e-02   3.938e+09   2.400e-01   4.000e-02]\n",
      " [  6.000e-02   7.469e+10   1.500e-01   6.000e-02]\n",
      " [  4.000e-02   4.615e+10   4.800e-01   0.000e+00]\n",
      " [  5.000e-02   2.699e+10   2.300e-01   4.000e-02]]\n",
      "Orginal Features: \n",
      " [[  7.000e-02   8.703e+10   4.100e-01   2.200e-01   1.948e+11   6.002e+10\n",
      "    9.000e-02   1.282e+11   6.716e+10  -2.000e-02   3.100e-01   2.048e+10\n",
      "    9.300e-01]\n",
      " [  1.000e-02   3.938e+09   4.100e-01   2.400e-01   1.286e+11   2.246e+10\n",
      "    4.000e-02   1.341e+11   8.306e+10   1.000e-02   1.800e-01   9.406e+09\n",
      "    9.700e-01]\n",
      " [  6.000e-02   7.469e+10   2.410e+00   1.500e-01   1.311e+11   1.961e+10\n",
      "    6.000e-02   7.037e+10   1.369e+11   3.000e-01   1.500e-01   1.393e+10\n",
      "    9.900e-01]\n",
      " [  4.000e-02   4.615e+10   5.000e-02   4.800e-01   2.117e+11   1.030e+10\n",
      "    0.000e+00   1.706e+11   5.093e+09   8.000e-02   5.000e-02   5.093e+09\n",
      "    9.000e-01]\n",
      " [  5.000e-02   2.699e+10   3.300e-01   2.300e-01   8.155e+10   1.968e+10\n",
      "    4.000e-02   7.277e+10   4.043e+10   1.800e-01   2.400e-01   1.821e+10\n",
      "    9.300e-01]]\n"
     ]
    }
   ],
   "source": [
    "# Feature Extraction with Univariate Statistical Tests (ANOVA F-value f_classif for classification)\n",
    "# import numpy\n",
    "from sklearn.feature_selection import SelectKBest\n",
    "from sklearn.feature_selection import f_classif\n",
    "# feature extraction\n",
    "SelectKBest_features = SelectKBest(score_func=f_classif, k=4)\n",
    "SelectKBest_fit = SelectKBest_features.fit(X, Y)\n",
    "# summarize scores\n",
    "initial_feature_labels = selected_features[0,1:]\n",
    "np.set_printoptions(precision=3, suppress=True)\n",
    "print('Initial Feature Names: \\n', initial_feature_labels)\n",
    "print('Fit SCores: \\n', SelectKBest_fit.scores_)\n",
    "SelectKBest_labels = SelectKBest_fit.transform(initial_feature_labels.reshape(1, -1))\n",
    "SelectKBest_output_features = SelectKBest_fit.transform(X)\n",
    "# summarize selected features\n",
    "print('Selected Feature Labels: \\n', SelectKBest_labels)\n",
    "print('Selected Features: \\n', SelectKBest_output_features[0:5,:])\n",
    "print('Orginal Features: \\n', X[0:5,:])"
   ]
  },
  {
   "cell_type": "code",
   "execution_count": 32,
   "metadata": {
    "collapsed": false
   },
   "outputs": [
    {
     "name": "stdout",
     "output_type": "stream",
     "text": [
      "Initial Feature Names: \n",
      " ['total yield' 'ms debt' 'roic v2' 'book price' 'sic' 'opInc' 'fcf yield'\n",
      " 'comStockEq' 'ms cem' 'total return' 'spitz roic' 'ms ce' 'momentum']\n",
      "Chi-Fit Scores: \n",
      " [  5.792e-01   1.220e+11   2.894e-01   4.409e+00   3.067e+10   1.387e+08\n",
      "   3.710e-01   5.918e+08   3.363e+10   1.813e+02   4.006e-04   3.300e+10\n",
      "   1.113e-02]\n",
      "Selected Feature Labels: \n",
      " [['ms debt' 'sic' 'ms cem' 'ms ce']]\n",
      "Selected Features: \n",
      " [[  8.703e+10   1.948e+11   6.716e+10   2.048e+10]\n",
      " [  3.938e+09   1.286e+11   8.306e+10   9.406e+09]\n",
      " [  7.469e+10   1.311e+11   1.369e+11   1.393e+10]\n",
      " [  4.615e+10   2.117e+11   5.093e+09   5.093e+09]\n",
      " [  2.699e+10   8.155e+10   4.043e+10   1.821e+10]]\n",
      "Orginal Features: \n",
      " [[  7.000e-02   8.703e+10   4.100e-01   2.200e-01   1.948e+11   6.002e+10\n",
      "    9.000e-02   1.282e+11   6.716e+10  -2.000e-02   3.100e-01   2.048e+10\n",
      "    9.300e-01]\n",
      " [  1.000e-02   3.938e+09   4.100e-01   2.400e-01   1.286e+11   2.246e+10\n",
      "    4.000e-02   1.341e+11   8.306e+10   1.000e-02   1.800e-01   9.406e+09\n",
      "    9.700e-01]\n",
      " [  6.000e-02   7.469e+10   2.410e+00   1.500e-01   1.311e+11   1.961e+10\n",
      "    6.000e-02   7.037e+10   1.369e+11   3.000e-01   1.500e-01   1.393e+10\n",
      "    9.900e-01]\n",
      " [  4.000e-02   4.615e+10   5.000e-02   4.800e-01   2.117e+11   1.030e+10\n",
      "    0.000e+00   1.706e+11   5.093e+09   8.000e-02   5.000e-02   5.093e+09\n",
      "    9.000e-01]\n",
      " [  5.000e-02   2.699e+10   3.300e-01   2.300e-01   8.155e+10   1.968e+10\n",
      "    4.000e-02   7.277e+10   4.043e+10   1.800e-01   2.400e-01   1.821e+10\n",
      "    9.300e-01]]\n"
     ]
    }
   ],
   "source": [
    "# Feature Extraction with Univariate Statistical Tests (Chi-squared for classification)\n",
    "from sklearn.feature_selection import SelectKBest\n",
    "from sklearn.feature_selection import chi2\n",
    "# feature extraction\n",
    "chi_select_features = SelectKBest(score_func=chi2, k=4)\n",
    "non_z = np.where(X < 0)\n",
    "x_no_neg = np.copy(X)\n",
    "x_no_neg[x_no_neg < 0] = 0.0\n",
    "chi_fit = chi_select_features.fit(x_no_neg, Y)\n",
    "# summarize scores\n",
    "initial_feature_labels = selected_features[0,1:]\n",
    "print('Initial Feature Names: \\n', initial_feature_labels)\n",
    "np.set_printoptions(precision=3, suppress=True)\n",
    "print('Chi-Fit Scores: \\n', chi_fit.scores_)\n",
    "chi_labels = chi_fit.transform(initial_feature_labels.reshape(1, -1))\n",
    "chi_fit_output_features = chi_fit.transform(X)\n",
    "\n",
    "# summarize selected features\n",
    "print('Selected Feature Labels: \\n', chi_labels)\n",
    "print('Selected Features: \\n', chi_fit_output_features[0:5,:])\n",
    "print('Orginal Features: \\n', X[0:5,:])"
   ]
  },
  {
   "cell_type": "code",
   "execution_count": 41,
   "metadata": {
    "collapsed": false
   },
   "outputs": [
    {
     "name": "stdout",
     "output_type": "stream",
     "text": [
      "Initial Feature Names: \n",
      " ['total yield' 'ms debt' 'roic v2' 'book price' 'sic' 'opInc' 'fcf yield'\n",
      " 'comStockEq' 'ms cem' 'total return' 'spitz roic' 'ms ce' 'momentum']\n",
      "Num Features:  3\n",
      "Selected Features:  [False  True False False False False False False  True False False  True\n",
      " False]\n",
      "Feature Ranking:  [10  1  8  7  4  2 11  3  1  5  9  1  6]\n",
      "Selected Feature Labels: \n",
      " [['ms debt' 'ms cem' 'ms ce']]\n",
      "Selected Features: \n",
      " [[  8.703e+10   1.948e+11   6.716e+10   2.048e+10]\n",
      " [  3.938e+09   1.286e+11   8.306e+10   9.406e+09]\n",
      " [  7.469e+10   1.311e+11   1.369e+11   1.393e+10]\n",
      " [  4.615e+10   2.117e+11   5.093e+09   5.093e+09]\n",
      " [  2.699e+10   8.155e+10   4.043e+10   1.821e+10]]\n",
      "Orginal Features: \n",
      " [[  7.000e-02   8.703e+10   4.100e-01   2.200e-01   1.948e+11   6.002e+10\n",
      "    9.000e-02   1.282e+11   6.716e+10  -2.000e-02   3.100e-01   2.048e+10\n",
      "    9.300e-01]\n",
      " [  1.000e-02   3.938e+09   4.100e-01   2.400e-01   1.286e+11   2.246e+10\n",
      "    4.000e-02   1.341e+11   8.306e+10   1.000e-02   1.800e-01   9.406e+09\n",
      "    9.700e-01]\n",
      " [  6.000e-02   7.469e+10   2.410e+00   1.500e-01   1.311e+11   1.961e+10\n",
      "    6.000e-02   7.037e+10   1.369e+11   3.000e-01   1.500e-01   1.393e+10\n",
      "    9.900e-01]\n",
      " [  4.000e-02   4.615e+10   5.000e-02   4.800e-01   2.117e+11   1.030e+10\n",
      "    0.000e+00   1.706e+11   5.093e+09   8.000e-02   5.000e-02   5.093e+09\n",
      "    9.000e-01]\n",
      " [  5.000e-02   2.699e+10   3.300e-01   2.300e-01   8.155e+10   1.968e+10\n",
      "    4.000e-02   7.277e+10   4.043e+10   1.800e-01   2.400e-01   1.821e+10\n",
      "    9.300e-01]]\n"
     ]
    }
   ],
   "source": [
    "# Feature Extraction with RFE\n",
    "from sklearn.feature_selection import RFE\n",
    "from sklearn.linear_model import LogisticRegression\n",
    "# feature extraction\n",
    "rfe_model = LogisticRegression()\n",
    "rfe = RFE(rfe_model, 3)\n",
    "rfe_fit = rfe.fit(X, Y)\n",
    "\n",
    "# summarize scores\n",
    "initial_feature_labels = selected_features[0,1:]\n",
    "print('Initial Feature Names: \\n', initial_feature_labels)\n",
    "np.set_printoptions(precision=3, suppress=True)\n",
    "print(\"Num Features: \", rfe_fit.n_features_)\n",
    "print(\"Selected Features: \", rfe_fit.support_)\n",
    "print(\"Feature Ranking: \", rfe_fit.ranking_)\n",
    "rfe_labels = rfe_fit.transform(initial_feature_labels.reshape(1, -1))\n",
    "rfe_fit_output_features = chi_fit.transform(X)\n",
    "\n",
    "# summarize selected features\n",
    "print('Selected Feature Labels: \\n', rfe_labels)\n",
    "print('Selected Features: \\n', rfe_fit_output_features[0:5,:])\n",
    "print('Orginal Features: \\n', X[0:5,:])"
   ]
  },
  {
   "cell_type": "code",
   "execution_count": 43,
   "metadata": {
    "collapsed": false
   },
   "outputs": [
    {
     "name": "stdout",
     "output_type": "stream",
     "text": [
      "Initial Feature Names: \n",
      " ['total yield' 'ms debt' 'roic v2' 'book price' 'sic' 'opInc' 'fcf yield'\n",
      " 'comStockEq' 'ms cem' 'total return' 'spitz roic' 'ms ce' 'momentum']\n",
      "[ 0.072  0.067  0.089  0.069  0.076  0.074  0.072  0.085  0.064  0.092\n",
      "  0.074  0.08   0.086]\n"
     ]
    }
   ],
   "source": [
    "# Feature Importance with Extra Trees Classifier\n",
    "from sklearn.ensemble import ExtraTreesClassifier\n",
    "# load data\n",
    "tree_X = X\n",
    "# feature extraction\n",
    "initial_feature_labels = selected_features[0,1:]\n",
    "print('Initial Feature Names: \\n', initial_feature_labels)\n",
    "tree_model = ExtraTreesClassifier()\n",
    "tree_model.fit(tree_X, Y)\n",
    "print(tree_model.feature_importances_)"
   ]
  },
  {
   "cell_type": "code",
   "execution_count": null,
   "metadata": {
    "collapsed": true
   },
   "outputs": [],
   "source": [
    ""
   ]
  }
 ],
 "metadata": {
  "anaconda-cloud": {},
  "kernelspec": {
   "display_name": "Python [default]",
   "language": "python",
   "name": "python3"
  },
  "language_info": {
   "codemirror_mode": {
    "name": "ipython",
    "version": 3.0
   },
   "file_extension": ".py",
   "mimetype": "text/x-python",
   "name": "python",
   "nbconvert_exporter": "python",
   "pygments_lexer": "ipython3",
   "version": "3.5.2"
  }
 },
 "nbformat": 4,
 "nbformat_minor": 0
}