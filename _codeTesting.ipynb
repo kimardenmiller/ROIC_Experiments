{
 "cells": [
  {
   "cell_type": "code",
   "execution_count": 4,
   "metadata": {
    "collapsed": true
   },
   "outputs": [
    {
     "data": {
      "text/plain": [
       "6.7783189386804441"
      ]
     },
     "execution_count": 4,
     "metadata": {},
     "output_type": "execute_result"
    }
   ],
   "source": [
    "import numpy as np\n",
    "test_array = []\n",
    "test_array.append([0, 8.8269454123112663, 7.5910147172734312, 8.2869080779944291, 4.0816326530612246, 10.344827586206897, 8.033033033033032, 8.2869080779944291, 8.4103512014787434, 3.9215686274509802])\n",
    "# test_array = np.append(test_array, 5)\n",
    "# test_array = np.append(test_array, 7)\n",
    "# np.insert(test_array, 5)\n",
    "# test_array = np.asarray(test)\n",
    "test_array\n",
    "np.asarray(test_array).mean()"
   ]
  },
  {
   "cell_type": "code",
   "execution_count": 16,
   "metadata": {},
   "outputs": [
    {
     "data": {
      "text/plain": [
       "array([['TSRA', '0.07']], \n      dtype='<U4')"
      ]
     },
     "execution_count": 16,
     "metadata": {},
     "output_type": "execute_result"
    }
   ],
   "source": [
    "t = np.asarray([[['TSRA', '0.07'], ['LXFT', '0'], ['TSRA', '0.07'],]])\n",
    "t[0][0:1]"
   ]
  },
  {
   "cell_type": "code",
   "execution_count": null,
   "metadata": {},
   "outputs": [],
   "source": [
    ""
   ]
  }
 ],
 "metadata": {
  "kernelspec": {
   "display_name": "Python 2",
   "language": "python",
   "name": "python2"
  },
  "language_info": {
   "codemirror_mode": {
    "name": "ipython",
    "version": 2.0
   },
   "file_extension": ".py",
   "mimetype": "text/x-python",
   "name": "python",
   "nbconvert_exporter": "python",
   "pygments_lexer": "ipython2",
   "version": "2.7.6"
  }
 },
 "nbformat": 4,
 "nbformat_minor": 0
}