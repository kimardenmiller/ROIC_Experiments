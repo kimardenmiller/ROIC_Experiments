{
 "cells": [
  {
   "cell_type": "code",
   "execution_count": 8,
   "metadata": {},
   "outputs": [
    {
     "name": "stdout",
     "output_type": "stream",
     "text": [
      "Selected Feature Names: \n ['roic v2' 'book price' 'momentum']\nFirst few Stocks with Features, no Lables:  \n [['DD' '0.19' '0.16' '0.93']\n ['DOW' '0.13' '0.42' '0.94']]  ...\n1436 Stocks by 4 Features\nFeatures for Tensor:  3\n"
     ]
    }
   ],
   "source": [
    "# Import all tradable stocks of 2015 (features X)\n",
    "import numpy as np\n",
    "import csv\n",
    "data = list(csv.reader(open('data/x2015_noFinance.csv')))\n",
    "feature_data = np.asarray(data)\n",
    "# print('Example Stock with All Features: ', '\\n', feature_data[0:2,:], ' ...')  # First stock in X\n",
    "# First stock in X with selected features\n",
    "selected_features = feature_data[:, [0, 8, 9, 20]]  \n",
    "# print('Example Stock with Selected Features: ', '\\n', selected_features[0:2,:], ' ...')\n",
    "# X with selected features and labels & blanks removed\n",
    "x_data_features = selected_features[1:, :]\n",
    "x_data_features[x_data_features == ''] = 0.0\n",
    "x_data = x_data_features\n",
    "selected_feature_labels = selected_features[0, 1:]\n",
    "print('Selected Feature Names: \\n', selected_feature_labels)\n",
    "print('First few Stocks with Features, no Lables: ', '\\n', x_data[0:2, :], ' ...')\n",
    "print(np.size(x_data[:, 0]), 'Stocks by', np.size(x_data[0, :]), 'Features')\n",
    "\n",
    "# Place dataset into input (X) and output (Y) variables\n",
    "x_strings = x_data_features[:, 1:]  # take off tickers, as they can't be tensor'd\n",
    "raw_X = x_strings.astype(np.float)  # convert strings to float\n",
    "# num_of_features = np.size(raw_X[0, :])\n",
    "print('Features for Tensor: ', np.size(raw_X[0, :]))"
   ]
  },
  {
   "cell_type": "code",
   "execution_count": null,
   "metadata": {},
   "outputs": [],
   "source": [
    ""
   ]
  }
 ],
 "metadata": {},
 "nbformat": 4,
 "nbformat_minor": 0
}